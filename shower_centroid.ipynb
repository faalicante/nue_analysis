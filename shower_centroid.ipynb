{
 "cells": [
  {
   "cell_type": "code",
   "execution_count": null,
   "id": "d9e39f1f",
   "metadata": {},
   "outputs": [],
   "source": [
    "import ROOT"
   ]
  },
  {
   "cell_type": "code",
   "execution_count": null,
   "id": "5f555a56",
   "metadata": {},
   "outputs": [],
   "source": [
    "def loadHists(histFile, query=None):\n",
    "    f = ROOT.TFile.Open(histFile)\n",
    "    histList = {}\n",
    "    keyList = f.GetListOfKeys()\n",
    "    for key in keyList:\n",
    "        # if query is not None and key.GetName() not in query:\n",
    "        #    continue\n",
    "        hist = f.Get(key.GetName())\n",
    "        hist.SetDirectory(ROOT.gROOT)\n",
    "        hist.SetName(key.GetName())\n",
    "        histList[key.GetName()] = hist\n",
    "    if len(histList) == 0: raise Exception('ERROR: histList is empty!')\n",
    "    f.Close()\n",
    "    return histList"
   ]
  },
  {
   "cell_type": "code",
   "execution_count": null,
   "id": "e1cb133b",
   "metadata": {},
   "outputs": [],
   "source": [
    "hist_file = '/eos/user/f/falicant/RUN1/brick21/hist_couples_aligned_mos.root'\n",
    "hist_cp = loadHists(hist_file)"
   ]
  },
  {
   "cell_type": "code",
   "execution_count": null,
   "id": "e3ff7b05",
   "metadata": {},
   "outputs": [],
   "source": [
    "rad_len = [round(p / 3.504,1) for p in range(58-12)]"
   ]
  },
  {
   "cell_type": "code",
   "execution_count": null,
   "id": "fb719637",
   "metadata": {
    "scrolled": false
   },
   "outputs": [],
   "source": [
    "ROOT.gStyle.SetOptStat(0)\n",
    "ROOT.gStyle.SetFrameLineWidth(2)\n",
    "ROOT.gStyle.SetOptTitle(1)\n",
    "ROOT.gStyle.SetTitleFontSize(0.1)\n",
    "\n",
    "c = ROOT.TCanvas(\"c\",\"c\",1500,1000)\n",
    "c.Divide(5,3)\n",
    "i=0\n",
    "\n",
    "plist= [12,15,19,21,25,27,29, 33,35,42,46,48,51,53,57]\n",
    "for p in range(1, 58):\n",
    "    if not p in plist: continue\n",
    "    i+=1\n",
    "    c.cd(i)\n",
    "    hist_cp[f'h_{p}'].SetTitle(f\"{rad_len[p-12]} X0\")\n",
    "    hist_cp[f'h_{p}'].SetNdivisions(4,\"XYZ\")\n",
    "    hist_cp[f'h_{p}'].SetLabelSize(0.04,\"XYZ\")\n",
    "    hist_cp[f'h_{p}'].SetTitleSize(13,\"XY\")\n",
    "    hist_cp[f'h_{p}'].SetTitleFont(43,\"XY\")\n",
    "    hist_cp[f'h_{p}'].SetTitleOffset(1.1,\"XY\")\n",
    "    hist_cp[f'h_{p}'].GetZaxis().SetRangeUser(0,20)\n",
    "    hist_cp[f'h_{p}'].Draw(\"COLZ\")\n",
    "c.Draw()"
   ]
  },
  {
   "cell_type": "code",
   "execution_count": null,
   "id": "aeb0991b",
   "metadata": {
    "scrolled": true
   },
   "outputs": [],
   "source": [
    "ROOT.gStyle.SetOptStat(0)\n",
    "ROOT.gStyle.SetFrameLineWidth(2)\n",
    "c = ROOT.TCanvas(\"c\",\"c\",1500,4200)\n",
    "c.Divide(5,12)\n",
    "i=0\n",
    "\n",
    "for p in list(range(1, 11))+list(range(12, 58)):\n",
    "    i+=1\n",
    "    c.cd(i)\n",
    "    hist_cp[f'h_{p}'].SetTitle(f\"Plate {p}\")\n",
    "    hist_cp[f'h_{p}'].GetYaxis().SetTitleOffset(1.25)\n",
    "    hist_cp[f'h_{p}'].GetZaxis().SetRangeUser(0,20)\n",
    "    hist_cp[f'h_{p}'].Draw(\"COLZ\")\n",
    "c.Draw()"
   ]
  },
  {
   "cell_type": "code",
   "execution_count": null,
   "id": "dec11583",
   "metadata": {},
   "outputs": [],
   "source": [
    "from ctypes import c_int\n",
    "plate=38\n",
    "cx = ROOT.TCanvas(\"cx\",\"cx\",500,500)\n",
    "_sliceMax=c_int(0)\n",
    "_sliceMay=c_int(0)\n",
    "_sliceMaz=c_int(0)\n",
    "hist_cp[f'h_{plate}'].GetXaxis().SetRangeUser(11500+plate*10,13000+plate*10)\n",
    "hist_cp[f'h_{plate}'].GetYaxis().SetRangeUser(104000+plate*10,106000+plate*10)\n",
    "hist_cp[f'h_{plate}'].GetMaximumBin(_sliceMax, _sliceMay, _sliceMaz)\n",
    "sliceMax=_sliceMax.value\n",
    "sliceMay=_sliceMay.value\n",
    "sliceMaz=_sliceMaz.value\n",
    "\n",
    "hx = hist_cp[f'h_{plate}'].ProjectionX(\"\",sliceMay-5,sliceMay+5,\"\")\n",
    "hx.Draw()\n",
    "maxBinX = hx.GetMaximumBin()\n",
    "maxValueX = hx.GetBinCenter(maxBinX)\n",
    "hx.GetXaxis().SetRangeUser(maxValueX-500,maxValueX+500)\n",
    "hx.Draw()\n",
    "fx = ROOT.TF1('f1','gaus')\n",
    "fitX = hx.Fit(fx,'','',maxValueX-250,maxValueX+250)\n",
    "integralX = fx.Integral(maxValueX-250,maxValueX+250)\n",
    "print(int(hx.GetMean()), int(hx.GetStdDev()), int(hx.GetEntries()))\n",
    "cx.Draw()"
   ]
  },
  {
   "cell_type": "code",
   "execution_count": null,
   "id": "5ca47007",
   "metadata": {
    "scrolled": false
   },
   "outputs": [],
   "source": [
    "cy = ROOT.TCanvas(\"cy\",\"cy\",500,500)\n",
    "hy = hist_cp[f'h_{plate}'].ProjectionY(\"\",sliceMax-5,sliceMax+5,\"\")\n",
    "hy.Draw()\n",
    "maxBinY = hy.GetMaximumBin()\n",
    "maxValueY = hy.GetBinCenter(maxBinY)\n",
    "hy.GetXaxis().SetRangeUser(maxValueY-300,maxValueY+300)\n",
    "fitY = hy.Fit('gaus','','',maxValueY-250,maxValueY+250)\n",
    "cy.Draw()"
   ]
  },
  {
   "cell_type": "code",
   "execution_count": null,
   "id": "0a1d3fa1",
   "metadata": {},
   "outputs": [],
   "source": [
    "z = {57: 34655.96, 56: 33329.90, 55: 32006.92, 54: 30685.82, 53: 29372.04, 52: 28061.45, 51: 26715.19, 50: 25373.10, 49: 24062.98, 48: 22730.45, 47: 21352.18, 46: 19961.56,\n",
    "    45: 18634.26, 44: 17268.02, 43: 15889.72, 42: 14523.08, 41: 13210.54, 40: 11906.15, 39: 10572.31, 38:  9258.64, 37:  7942.98, 36:  6613.56, 35:  5267.96, 34:  3965.65,\n",
    "    33:  2663.28, 32:  1344.32, 31:0.00, 30: -1317.17, 29: -2660.18, 28: -3936.19, 27: -5261.42, 26: -6600.40, 25: -7903.31, 24: -9317.59, 23:-10680.85, 22:-11971.73,\n",
    "    21:-13345.02, 20:-14675.77, 19:-16021.16, 18:-17358.80, 17:-18693.34, 16:-20052.59, 15:-21400.94, 14:-22716.23, 13:-24059.38, 12:-25422.78, 11:-26722.78, 10:-28046.87,\n",
    "    9:-29377.34,  8:-30695.57,  7:-32045.26,  6:-33379.57,  5:-34737.75,  4:-36102.56,  3:-37462.51,  2:-38769.36,  1:-40109.79}\n",
    "z.update((x, y-34655.96) for x, y in z.items())\n",
    "\n",
    "qx = 13140.1\n",
    "mx = 0.0156804\n",
    "qy = 106366\n",
    "my = 0.0339451\n",
    "eqx = 70.0674\n",
    "emx = 0.00220214 \n",
    "eqy = 70.7743\n",
    "emy = 0.00223281\n",
    "\n",
    "resx = 0.6914\n",
    "resy = 0.5879\n",
    "restx = 0.001342\n",
    "resty = 0.001175\n",
    "\n",
    "dz=z[18]-z[1]\n",
    "dz2=dz**2\n",
    "eqx2=eqx**2\n",
    "eqy2=eqy**2\n",
    "emx2=emx**2\n",
    "emy2=emy**2\n",
    "\n",
    "resx2=resx**2\n",
    "resy2=resy**2\n",
    "restx2=restx**2\n",
    "resty2=resty**2\n",
    "\n",
    "errqx = eqx2+dz2*emx2\n",
    "errqy = eqy2+dz2*emy2\n",
    "errresx = resx2+dz2*restx2\n",
    "errresy = resy2+dz2*resty2\n",
    "\n",
    "errx = ROOT.TMath.Sqrt(errqx+errresx)\n",
    "erry = ROOT.TMath.Sqrt(errqy+errresy)\n",
    "errtx = ROOT.TMath.Sqrt(emx2+restx2)\n",
    "errty = ROOT.TMath.Sqrt(emy2+resty2)"
   ]
  },
  {
   "cell_type": "code",
   "execution_count": null,
   "id": "16d54f8d",
   "metadata": {},
   "outputs": [],
   "source": [
    "x1 = qx+mx*z[5]\n",
    "x20 = qx+mx*z[20]\n",
    "y1 = qy+my*z[5]\n",
    "y20 = qy+my*z[20]\n",
    "print(\"x\",round(x1,0), round(x20,0), round(errx,0))\n",
    "print(\"y\",round(y1,0), round(y20,0), round(erry,0))\n",
    "print(\"tx\",round(mx,3), round(errtx,3))\n",
    "print(\"ty\",round(my,3), round(errty,3))"
   ]
  },
  {
   "cell_type": "code",
   "execution_count": null,
   "id": "deecb4a2",
   "metadata": {},
   "outputs": [],
   "source": [
    "print(\"x\",round(x1+(x20-x1)/2,0), round(((x20-x1)+errx*5)/2,0))\n",
    "print(\"x\",round(y1+(y20-y1)/2,0), round(((y20-y1)+erry*5)/2,0))"
   ]
  },
  {
   "cell_type": "code",
   "execution_count": null,
   "id": "951225e5",
   "metadata": {},
   "outputs": [],
   "source": [
    "p=17\n",
    "vx=12197.6\n",
    "vy=104323.4\n",
    "vz = -25666.6-34655.96\n",
    "print(vz)\n",
    "predvx = qx+mx*vz\n",
    "predvy = qy+my*vz\n",
    "print(predvx,predvy)\n",
    "print(vx-predvx, vy-predvy)"
   ]
  },
  {
   "cell_type": "code",
   "execution_count": null,
   "id": "dd8a2b00",
   "metadata": {},
   "outputs": [],
   "source": [
    "z={57:0.00 ,56:-1340.35,55:-2714.28,54:-4036.24,53:-5337.83,52:-6684.41,51:-8001.78, 50:-9322.46 ,49:-10655.76, 48:-12021.93, 47:-13412.77, 46: -14795.63, 45:-16162.66, 44:-17534.37, 43:-18891.43, 42:-20246.43, 41:-21566.47 ,40:-22913.61 ,39:-24230.69 ,38:-25575.51 ,\n",
    "   37:-26879.11 ,36:-28229.82 ,35:-29581.09 ,34:-30901.87 ,33:-32245.53 ,32:-33597.76 ,31:-34976.27 ,30:-36277.15 ,29:-37604.21 ,28:-38917.36 ,27:-40238.69, 26:-41584.73 ,25:-42908.92 ,24:-44276.78 ,23:-45643.12 ,22:-46972.20 ,21:-48355.71 ,20:-49722.71 ,19:-51066.87 ,\n",
    "   18:-52427.69 ,17:-53749.28 ,16:-55136.12 ,15:-56493.45 ,14:-57828.26 ,13:-59199.22 ,12:-60574.84 ,11:-61938.31 ,10:-63250.14 , 9:-64578.07 , 8:-65892.94 , 7:-67241.09 , 6:-68555.77 , 5:-69898.01 , 4:-71225.37 , 3:-72564.90 , 2:-73891.68 , 1:-75247.02}\n",
    "for key in range(1,12):\n",
    "    z.pop(key, None)\n",
    "sorted_z = sorted(z.values())\n",
    "start_z = [sort_z - sorted_z[0] for sort_z in sorted_z]\n",
    "rad_len = [round(z / 3504,1) for z in start_z]\n",
    "print(start_z[26])\n",
    "print(rad_len)"
   ]
  },
  {
   "cell_type": "code",
   "execution_count": null,
   "id": "312ed42c",
   "metadata": {},
   "outputs": [],
   "source": [
    "mcfile='/eos/experiment/sndlhc/MonteCarlo/Neutrinos/Genie/nu_sim_activeemu_withcrisfiles_25_July_2022/sndLHC.Genie-TGeant4.root'\n",
    "mcfile=ROOT.TFile.Open(mcfile)\n",
    "cbmsim=mcfile.cbmsim"
   ]
  },
  {
   "cell_type": "code",
   "execution_count": null,
   "id": "4a4dda50",
   "metadata": {},
   "outputs": [],
   "source": [
    "ROOT.gStyle.SetOptStat(1111)\n",
    "\n",
    "hnuet = ROOT.TH1D(\"nuet\", \"MC slope;tan#theta\", 1500, 0, 1.5)\n",
    "hpi0t = ROOT.TH1D(\"pi0t\", \"MC pi0 slope;tan#theta\", 1500, 0,1.5)\n",
    "\n",
    "cut = \"TMath::Abs(MCTrack[1].fPdgCode)==11&&TMath::Abs(MCTrack[0].fPdgCode)==12\"\n",
    "cutpi = \"MCTrack.fPdgCode==111&&MCTrack.fMotherId==0\"\n",
    "     \n",
    "cbmsim.Draw(\"TMath::Sqrt((MCTrack[1].fPx/MCTrack[1].fPz)^2+(MCTrack[1].fPy/MCTrack[1].fPz)^2)>>nuet\", cut)\n",
    "cbmsim.Draw(\"TMath::Sqrt((MCTrack.fPx/MCTrack.fPz)^2+(MCTrack.fPy/MCTrack.fPz)^2)>>pi0t\", cutpi)"
   ]
  },
  {
   "cell_type": "code",
   "execution_count": null,
   "id": "cb3516ce",
   "metadata": {
    "scrolled": false
   },
   "outputs": [],
   "source": [
    "ROOT.gStyle.SetOptStat(0)\n",
    "ROOT.gStyle.SetOptTitle(0)\n",
    "ROOT.gStyle.SetFrameLineWidth(2)\n",
    "ctheta = ROOT.TCanvas(\"ctheta\",\"ctheta\",1500,600)\n",
    "ctheta.Divide(2,1)\n",
    "\n",
    "leg = ROOT.TLegend(0.65, 0.7, 0.85, 0.85)\n",
    "leg.AddEntry(hnuet, 'e', 'L')\n",
    "leg.AddEntry(hpi0t, '#pi^{0}', 'L')\n",
    "leg.SetTextFont(53)\n",
    "leg.SetBorderSize(0)\n",
    "\n",
    "l = ROOT.TLine(0.0036, 0.0001, 0.0036, 0.043)\n",
    "l.SetLineWidth(3)\n",
    "l.SetLineColor(8)\n",
    "\n",
    "\n",
    "ctheta.cd(1)\n",
    "hnuet.GetXaxis().SetRangeUser(0, 1.5)\n",
    "hnuet.GetXaxis().SetLabelFont(43)\n",
    "hnuet.GetXaxis().SetLabelSize(22)\n",
    "hnuet.GetXaxis().SetTitleOffset(0.7)\n",
    "hnuet.GetXaxis().SetTitleSize(24)\n",
    "hnuet.GetXaxis().SetTitleFont(63)\n",
    "hnuet.SetLineWidth(1)\n",
    "hnuet.DrawNormalized()\n",
    "hpi0t.SetLineWidth(1)\n",
    "hpi0t.SetLineColor(2)\n",
    "hpi0t.DrawNormalized(\"sames&&hist\")\n",
    "leg.Draw(\"same\")\n",
    "\n",
    "ctheta.cd(2)\n",
    "hnuet.GetXaxis().SetRangeUser(0, 0.1)\n",
    "hnuet.GetXaxis().SetNdivisions(510)\n",
    "hnuet.SetLineWidth(2)\n",
    "#hnuet.Rebin(2)\n",
    "hnuet.DrawNormalized()\n",
    "hpi0t.SetLineWidth(2)\n",
    "hpi0t.SetLineColor(2)\n",
    "#hpi0t.Rebin(2)\n",
    "hpi0t.DrawNormalized(\"sames&&hist\")\n",
    "l.Draw(\"same\")\n",
    "leg.Draw(\"same\")\n",
    "\n",
    "from ctypes import c_int\n",
    "plate=24\n",
    "cx = ROOT.TCanvas(\"cx\",\"cx\",500,500)\n",
    "_sliceMax=c_int(0)\n",
    "_sliceMay=c_int(0)\n",
    "_sliceMaz=c_int(0)\n",
    "hist_cp[f'h_{plate}'].GetXaxis().SetRangeUser(11500,14500)\n",
    "hist_cp[f'h_{plate}'].GetYaxis().SetRangeUser(104000,107500)\n",
    "hist_cp[f'h_{plate}'].GetMaximumBin(_sliceMax, _sliceMay, _sliceMaz)\n",
    "sliceMax=_sliceMax.value\n",
    "ctheta.Draw()"
   ]
  },
  {
   "cell_type": "code",
   "execution_count": null,
   "id": "adf51d12",
   "metadata": {},
   "outputs": [],
   "source": [
    "sx = 15 - 17\n",
    "sy = 35 - 32\n",
    "sxy = ROOT.TMath.Sqrt(sx**2+sy**2)\n",
    "print(sxy)"
   ]
  },
  {
   "cell_type": "code",
   "execution_count": null,
   "id": "6d041f2a",
   "metadata": {},
   "outputs": [],
   "source": [
    "binIndex = 8\n",
    "binLowEdge = hnuet.GetXaxis().GetBinLowEdge(binIndex)\n",
    "binUpEdge = hnuet.GetXaxis().GetBinUpEdge(binIndex)\n",
    "print(binLowEdge)"
   ]
  },
  {
   "cell_type": "code",
   "execution_count": null,
   "id": "1597db62",
   "metadata": {},
   "outputs": [],
   "source": [
    "from ctypes import c_double\n",
    "\n",
    "_errnue=c_double(0)\n",
    "_errpi=c_double(0)\n",
    "\n",
    "probnue = hnuet.IntegralAndError(8,hnuet.FindLastBinAbove(), _errnue)/hnuet.GetEntries()\n",
    "probpi0 = hpi0t.IntegralAndError(8,hpi0t.FindLastBinAbove(), _errpi)/hpi0t.GetEntries()\n",
    "\n",
    "errnue=_errnue.value/hnuet.GetEntries()\n",
    "errpi=_errpi.value/hnuet.GetEntries()\n",
    "print(errnue, errpi)\n",
    "print(round(probnue,2), round(probpi0,2))"
   ]
  },
  {
   "cell_type": "code",
   "execution_count": null,
   "id": "e1545fe1",
   "metadata": {},
   "outputs": [],
   "source": [
    "probnue = hnuet.Integral(1,601)/hnuet.GetEntries()\n",
    "probpi0 = hpi0t.Integral(1,600)/hpi0t.GetEntries()\n",
    "\n",
    "print(round(probnue,3), round(probpi0,3))"
   ]
  },
  {
   "cell_type": "code",
   "execution_count": null,
   "id": "55004795",
   "metadata": {},
   "outputs": [],
   "source": [
    "dz = [289.3743, 353.3114, 31.9685]\n",
    "dx = [-47.7758,  -5.5467, 21.1145]\n",
    "dy = [13.0335 ,  55.2793, 21.1229]\n",
    "dz21 = [303.8430, 311.6324, 3.8947]\n",
    "dx21 = [-26.6035,  -7.3039, 9.6498]\n",
    "dy21 = [15.0747 ,  34.3728, 9.6490]\n",
    "cutpdg = \"TMath::Abs(MCTrack[0].fPdgCode)==12\"\n",
    "cutpos = f\"TMath::Abs(MCTrack[1].fStartX-{dx[0]+dx[2]})<{dx[2]}&&TMath::Abs(MCTrack[1].fStartY-{dy[0]+dy[2]})<{dy[2]}&&TMath::Abs(MCTrack[1].fStartZ-{dz[0]+dz[2]})<{dz[2]}\"\n",
    "cutpos21 = f\"TMath::Abs(MCTrack[1].fStartX-{dx21[0]+dx21[2]})<{dx21[2]}&&TMath::Abs(MCTrack[1].fStartY-{dy21[0]+dy21[2]})<{dy21[2]}&&TMath::Abs(MCTrack[1].fStartZ-{dz21[0]+dz21[2]})<{dz21[2]}\"\n",
    "cut = cutpdg+\"&&\"+cutpos\n",
    "cut21 = cutpdg+\"&&\"+cutpos21\n",
    "fact=cbmsim.GetEntries(cut21)/cbmsim.GetEntries(cut)\n",
    "print(fact, 1/20)\n",
    "print(cbmsim.GetEntries(cut21))"
   ]
  },
  {
   "cell_type": "code",
   "execution_count": null,
   "id": "652e152c",
   "metadata": {},
   "outputs": [],
   "source": [
    "nutot= (46+14.6)/8.6*9.5\n",
    "nuecc= 10/8.6*9.5\n",
    "numucc=36/8.6*9.5\n",
    "nutot21=nutot*fact\n",
    "nuecc21=nuecc*fact\n",
    "numucc21=numucc*fact\n",
    "print(nutot, nutot21, nuecc,nuecc21,numucc,numucc21)"
   ]
  },
  {
   "cell_type": "code",
   "execution_count": null,
   "id": "4daad5a3",
   "metadata": {},
   "outputs": [],
   "source": [
    "z=  321.3429\n",
    "dZ= [289.3743, 353.3114]\n",
    "dx= [-47.7758,-5.5467]\n",
    "dy= [13.0335, 55.2793] \n",
    "#Brick_1\n",
    "z=  307.7377\n",
    "dZ= [303.8430, 311.6324]\n",
    "dx= [-26.6035, -7.3039]\n",
    "dy= [15.0747, 34.3728]"
   ]
  },
  {
   "cell_type": "code",
   "execution_count": null,
   "id": "6e4cfe6e",
   "metadata": {},
   "outputs": [],
   "source": []
  }
 ],
 "metadata": {
  "@webio": {
   "lastCommId": null,
   "lastKernelId": null
  },
  "celltoolbar": "Raw Cell Format",
  "kernelspec": {
   "display_name": "Python 3",
   "language": "python",
   "name": "python3"
  },
  "language_info": {
   "codemirror_mode": {
    "name": "ipython",
    "version": 3
   },
   "file_extension": ".py",
   "mimetype": "text/x-python",
   "name": "python",
   "nbconvert_exporter": "python",
   "pygments_lexer": "ipython3",
   "version": "3.8.12"
  }
 },
 "nbformat": 4,
 "nbformat_minor": 5
}
