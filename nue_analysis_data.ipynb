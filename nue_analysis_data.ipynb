{
 "cells": [
  {
   "cell_type": "code",
   "execution_count": null,
   "id": "091fad52-d864-47ed-b31c-6e961f23ef08",
   "metadata": {},
   "outputs": [],
   "source": [
    "import numpy as np\n",
    "from hist import Hist\n",
    "import hist\n",
    "import matplotlib.pyplot as plt\n",
    "import pickle"
   ]
  },
  {
   "cell_type": "code",
   "execution_count": null,
   "id": "5638949f-4903-4ec5-9797-446c84b9119d",
   "metadata": {},
   "outputs": [],
   "source": [
    "edges = (5000, 185000)\n",
    "entries_min = 100\n",
    "entries_max = 1000\n",
    "\n",
    "plates = range(1, 58)\n",
    "\n",
    "bins = 360\n",
    "scale = 180/bins  # size in mm"
   ]
  },
  {
   "cell_type": "code",
   "execution_count": null,
   "id": "f7d54089-8ba7-4984-b2b7-73d0e3e9d74e",
   "metadata": {},
   "outputs": [],
   "source": [
    "with open(f\"hists_{bins}.pkl\", \"rb\") as f:\n",
    "    h = pickle.load(f)"
   ]
  },
  {
   "cell_type": "raw",
   "id": "bd74707e-52b1-4769-9615-7fc8bf66141e",
   "metadata": {},
   "source": [
    "h = Hist.new.Regular(bins, edges[0], edges[1], name=\"x\").Regular(bins, edges[0], edges[1], name=\"y\").Integer(1, 58, name=\"plate\").Double()"
   ]
  },
  {
   "cell_type": "raw",
   "id": "f047fff5-2302-461b-a1b3-c5d38e826e62",
   "metadata": {},
   "source": [
    "import uproot\n",
    "import awkward as ak\n",
    "\n",
    "with uproot.open(\"ntuples_merged.root\") as file:\n",
    "    tree = file[\"segments\"]\n",
    "    for branches in tree.iterate([\"x\", \"y\", \"p\"]):\n",
    "        x = branches[\"x\"]\n",
    "        y = branches[\"y\"]\n",
    "        p = ak.values_astype(branches[\"p\"], np.int32)\n",
    "        h.fill(x, y, p)\n",
    "        # del x, y, p"
   ]
  },
  {
   "cell_type": "raw",
   "id": "4f866da6-e2b0-47af-a89e-bcb8de0d60c1",
   "metadata": {},
   "source": [
    "with open(f\"hists_{bins}.pkl\", \"wb\") as f:\n",
    "    pickle.dump(h, f)"
   ]
  },
  {
   "cell_type": "code",
   "execution_count": null,
   "id": "e007fa46-f10e-49f8-96a0-2e86ae78301f",
   "metadata": {},
   "outputs": [],
   "source": [
    "hentries = Hist.new.Regular(100, entries_min, entries_max, name=rf\"basetracks / ${scale**2} \\mathrm{{mm}}^{{2}}$\").Integer(1, 58, name=\"plate\").Double()"
   ]
  },
  {
   "cell_type": "code",
   "execution_count": null,
   "id": "d9f67d0b-d075-40b7-b36a-007d59ccb18c",
   "metadata": {},
   "outputs": [],
   "source": [
    "for plate in plates:\n",
    "    h_p = h[:,:,plate - 1]\n",
    "    plt.figure()\n",
    "    h_p.plot()\n",
    "    plt.savefig(f\"plots/plate_{plate}.png\")\n",
    "    plt.close()\n",
    "    hentries.fill(np.ravel(h_p), plate)"
   ]
  },
  {
   "cell_type": "code",
   "execution_count": null,
   "id": "fdf2c655-e8ef-4d48-875d-d023b3e53c3e",
   "metadata": {},
   "outputs": [],
   "source": [
    "plt.figure(figsize=(5,10))\n",
    "hentries[:, plates[0]-1:plates[-1]-1].plot()\n",
    "plt.savefig(\"plots/plate_preview.png\")\n",
    "plt.savefig(\"plots/plate_preview.pdf\")"
   ]
  },
  {
   "cell_type": "code",
   "execution_count": null,
   "id": "5ce4b2eb-c71f-41c2-a061-4e3283d62542",
   "metadata": {},
   "outputs": [],
   "source": [
    "for plate in plates:\n",
    "    plt.figure()\n",
    "    hentries[:, plate - 1].plot()\n",
    "    plt.title(f\"Plate {plate}\")\n",
    "    plt.savefig(f\"plots/plate_{plate}_1d.png\")\n",
    "    plt.close()"
   ]
  },
  {
   "cell_type": "code",
   "execution_count": null,
   "id": "e48cd7c3-af5d-491e-ad5b-886375d2c35a",
   "metadata": {},
   "outputs": [],
   "source": [
    "from scipy.stats import poisson"
   ]
  },
  {
   "cell_type": "code",
   "execution_count": null,
   "id": "5e50cb32-988f-4207-bae8-58ba3f87ad79",
   "metadata": {},
   "outputs": [],
   "source": [
    "for plate in [17,]:\n",
    "    hentries_p = hentries[:, plate - 1]\n",
    "    hentries_p.plot()\n",
    "    h_poisson = Hist.new.Regular(100, entries_min, entries_max, name=rf\"basetracks / ${scale**2} \\mathrm{{mm}}^{{2}}$\").Double()\n",
    "    h_p = h[:,:,plate - 1]\n",
    "    median = np.median(h_p.values())\n",
    "    h_poisson.fill(poisson(median).rvs(size=int(hentries_p.integrate(0))))\n",
    "    h_poisson.plot()\n",
    "    plt.title(\"Comparison of seen distribution with poisson\")\n",
    "    plt.savefig(f\"plots/poisson_{plate}.png\")\n",
    "    plt.savefig(f\"plots/poisson_{plate}.pdf\")"
   ]
  },
  {
   "cell_type": "code",
   "execution_count": null,
   "id": "f4cb592f-ea15-405d-9d37-ffeee9c11a7c",
   "metadata": {},
   "outputs": [],
   "source": [
    "h_mask = Hist.new.Regular(bins, edges[0], edges[1], name=\"x\").Regular(bins, edges[0], edges[1], name=\"y\").Integer(1, 58, name=\"plate\").Double()"
   ]
  },
  {
   "cell_type": "code",
   "execution_count": null,
   "id": "e4fdd107-5c8d-4f74-81c9-817447aaa401",
   "metadata": {},
   "outputs": [],
   "source": [
    "for plate in plates:\n",
    "    if plate == 23:\n",
    "        continue\n",
    "    hentries_p = hentries[:, plate - 1]\n",
    "    h_p = h[:,:,plate - 1]\n",
    "    median = np.median(h_p.values())\n",
    "    cutoff = median + 3 * np.sqrt(median)\n",
    "    for i in range(bins):\n",
    "        for j in range(bins):\n",
    "            h_mask[i,j,plate - 1] = (h_p[i,j] - cutoff) if h_p[i,j] > cutoff else 0"
   ]
  },
  {
   "cell_type": "code",
   "execution_count": null,
   "id": "0ba14a56-e6d8-4c50-b44c-44fa34e852a8",
   "metadata": {},
   "outputs": [],
   "source": [
    "for plate in plates:\n",
    "    h_p = h_mask[:,:,plate - 1]\n",
    "    plt.figure()\n",
    "    h_p.plot()\n",
    "    plt.savefig(f\"plots/plate_{plate}_masked.png\")\n",
    "    plt.close()"
   ]
  },
  {
   "cell_type": "code",
   "execution_count": null,
   "id": "c4a204df-4edc-4604-9383-e410fb1fc784",
   "metadata": {},
   "outputs": [],
   "source": [
    "rebin_scale = 1\n",
    "h_mask[hist.rebin(rebin_scale),hist.rebin(rebin_scale),:].project(\"x\", \"y\").plot()\n",
    "plt.xlabel(r\"x / µm\")\n",
    "plt.ylabel(r\"y / µm\")\n",
    "plt.title(rf\"Basetracks exceeding threshold (integrated over plates) / ${(scale * rebin_scale)**2}\\;\\mathrm{{mm}}^2$\")\n",
    "plt.savefig(\"plots/projection_all_above_threshold_without_23.png\")\n",
    "plt.savefig(\"plots/projection_all_above_threshold_without_23.pdf\")"
   ]
  },
  {
   "cell_type": "code",
   "execution_count": null,
   "id": "e98fa176-a607-44c7-b14c-3cb47991ce66",
   "metadata": {},
   "outputs": [],
   "source": [
    "rebin_scale = 4\n",
    "count = 10\n",
    "h_mask_projected = h_mask[hist.rebin(rebin_scale),hist.rebin(rebin_scale),sum]\n",
    "with open(\"candidates.csv\", \"a\") as file:\n",
    "    for place in np.argpartition(-h_mask_projected.values(), count, axis=None)[:count]:\n",
    "        plt.figure(figsize=(15,5))\n",
    "        indices = np.unravel_index(place, np.shape(h_mask_projected))\n",
    "        print(indices)\n",
    "        position = [5000 + indices[0] * rebin_scale * scale * 1000, 5000 + indices[1] * rebin_scale * scale * 1000]\n",
    "        h_mask[hist.rebin(rebin_scale),hist.rebin(rebin_scale),:][*indices,:].plot()\n",
    "        bin_x_low = position[0]\n",
    "        bin_x_high = position[0] + 1000 * rebin_scale * scale\n",
    "        bin_y_low = position[1]\n",
    "        bin_y_high = position[1] + 1000 * rebin_scale * scale\n",
    "        plt.title(rf\"Shower candidate {place} bin{indices} ($x/\\mu\\mathrm{{m}} \\in[{bin_x_low},{bin_x_high}), y/\\mu\\mathrm{{m}} \\in [{bin_y_low},{bin_y_high})$ )\")\n",
    "        plt.ylabel(rf\"Basetracks exceeding threshold / ${(scale * rebin_scale)**2}\\;\\mathrm{{mm}}^2$\")\n",
    "        plotname = f\"candidate_{place}_{indices}_rebin_scale_{rebin_scale}_scale_{scale}\"\n",
    "        plt.savefig(f\"plots/{plotname}.png\")\n",
    "        plt.savefig(f\"plots/{plotname}.pdf\")\n",
    "        plt.close()\n",
    "        file.write(f\"{place}, {scale}, {rebin_scale}, {bin_x_low}, {bin_x_high}, {bin_y_low}, {bin_y_high}, {plotname}\\n\")"
   ]
  },
  {
   "cell_type": "code",
   "execution_count": null,
   "id": "4a4c12fb-5867-48f4-aeaa-bf9bd3233fda",
   "metadata": {},
   "outputs": [],
   "source": []
  },
  {
   "cell_type": "code",
   "execution_count": null,
   "id": "8a1ae2a3-64b3-416a-9fc3-bfd0e019d344",
   "metadata": {},
   "outputs": [],
   "source": []
  }
 ],
 "metadata": {
  "kernelspec": {
   "display_name": "Python 3 (ipykernel)",
   "language": "python",
   "name": "python3"
  },
  "language_info": {
   "codemirror_mode": {
    "name": "ipython",
    "version": 3
   },
   "file_extension": ".py",
   "mimetype": "text/x-python",
   "name": "python",
   "nbconvert_exporter": "python",
   "pygments_lexer": "ipython3",
   "version": "3.11.7"
  }
 },
 "nbformat": 4,
 "nbformat_minor": 5
}
